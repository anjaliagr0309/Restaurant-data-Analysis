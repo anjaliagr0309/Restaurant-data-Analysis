{
  "nbformat": 4,
  "nbformat_minor": 0,
  "metadata": {
    "colab": {
      "provenance": []
    },
    "kernelspec": {
      "name": "python3",
      "display_name": "Python 3"
    },
    "language_info": {
      "name": "python"
    }
  },
  "cells": [
    {
      "cell_type": "code",
      "metadata": {
        "id": "AJPQvW3OevD6"
      },
      "source": [
        "import numpy as np\n",
        "import scipy.stats as st\n",
        "import pandas as pd\n",
        "from matplotlib import pyplot as plt"
      ],
      "execution_count": null,
      "outputs": []
    },
    {
      "cell_type": "markdown",
      "metadata": {
        "id": "vcZ4_pt9fLr0"
      },
      "source": [
        "# **Reading the excel file**"
      ]
    },
    {
      "cell_type": "code",
      "metadata": {
        "colab": {
          "base_uri": "https://localhost:8080/",
          "height": 423
        },
        "id": "sH1KBbiZfmDn",
        "outputId": "44f66912-37fb-48af-99db-34cefd71417b"
      },
      "source": [
        "df = pd.read_excel(r'Week 9 activity.xlsx')\n",
        "df"
      ],
      "execution_count": null,
      "outputs": [
        {
          "output_type": "execute_result",
          "data": {
            "text/html": [
              "<div>\n",
              "<style scoped>\n",
              "    .dataframe tbody tr th:only-of-type {\n",
              "        vertical-align: middle;\n",
              "    }\n",
              "\n",
              "    .dataframe tbody tr th {\n",
              "        vertical-align: top;\n",
              "    }\n",
              "\n",
              "    .dataframe thead th {\n",
              "        text-align: right;\n",
              "    }\n",
              "</style>\n",
              "<table border=\"1\" class=\"dataframe\">\n",
              "  <thead>\n",
              "    <tr style=\"text-align: right;\">\n",
              "      <th></th>\n",
              "      <th>Sr No</th>\n",
              "      <th>Total bill</th>\n",
              "      <th>Tip</th>\n",
              "      <th>Gender</th>\n",
              "      <th>Day</th>\n",
              "      <th>Time</th>\n",
              "      <th>Size</th>\n",
              "    </tr>\n",
              "  </thead>\n",
              "  <tbody>\n",
              "    <tr>\n",
              "      <th>0</th>\n",
              "      <td>1</td>\n",
              "      <td>13.96589</td>\n",
              "      <td>1.01</td>\n",
              "      <td>Female</td>\n",
              "      <td>Sun</td>\n",
              "      <td>Dinner</td>\n",
              "      <td>2</td>\n",
              "    </tr>\n",
              "    <tr>\n",
              "      <th>1</th>\n",
              "      <td>2</td>\n",
              "      <td>17.34565</td>\n",
              "      <td>1.66</td>\n",
              "      <td>Male</td>\n",
              "      <td>Sun</td>\n",
              "      <td>Dinner</td>\n",
              "      <td>3</td>\n",
              "    </tr>\n",
              "    <tr>\n",
              "      <th>2</th>\n",
              "      <td>3</td>\n",
              "      <td>14.25061</td>\n",
              "      <td>3.50</td>\n",
              "      <td>Male</td>\n",
              "      <td>Sun</td>\n",
              "      <td>Dinner</td>\n",
              "      <td>3</td>\n",
              "    </tr>\n",
              "    <tr>\n",
              "      <th>3</th>\n",
              "      <td>4</td>\n",
              "      <td>15.05258</td>\n",
              "      <td>3.31</td>\n",
              "      <td>Male</td>\n",
              "      <td>Sun</td>\n",
              "      <td>Dinner</td>\n",
              "      <td>2</td>\n",
              "    </tr>\n",
              "    <tr>\n",
              "      <th>4</th>\n",
              "      <td>5</td>\n",
              "      <td>15.60354</td>\n",
              "      <td>3.61</td>\n",
              "      <td>Female</td>\n",
              "      <td>Sun</td>\n",
              "      <td>Dinner</td>\n",
              "      <td>4</td>\n",
              "    </tr>\n",
              "    <tr>\n",
              "      <th>...</th>\n",
              "      <td>...</td>\n",
              "      <td>...</td>\n",
              "      <td>...</td>\n",
              "      <td>...</td>\n",
              "      <td>...</td>\n",
              "      <td>...</td>\n",
              "      <td>...</td>\n",
              "    </tr>\n",
              "    <tr>\n",
              "      <th>239</th>\n",
              "      <td>240</td>\n",
              "      <td>14.79501</td>\n",
              "      <td>5.92</td>\n",
              "      <td>Male</td>\n",
              "      <td>Sat</td>\n",
              "      <td>Dinner</td>\n",
              "      <td>3</td>\n",
              "    </tr>\n",
              "    <tr>\n",
              "      <th>240</th>\n",
              "      <td>241</td>\n",
              "      <td>13.82787</td>\n",
              "      <td>2.00</td>\n",
              "      <td>Female</td>\n",
              "      <td>Sat</td>\n",
              "      <td>Dinner</td>\n",
              "      <td>2</td>\n",
              "    </tr>\n",
              "    <tr>\n",
              "      <th>241</th>\n",
              "      <td>242</td>\n",
              "      <td>16.20828</td>\n",
              "      <td>2.00</td>\n",
              "      <td>Male</td>\n",
              "      <td>Sat</td>\n",
              "      <td>Dinner</td>\n",
              "      <td>2</td>\n",
              "    </tr>\n",
              "    <tr>\n",
              "      <th>242</th>\n",
              "      <td>243</td>\n",
              "      <td>15.08435</td>\n",
              "      <td>1.75</td>\n",
              "      <td>Male</td>\n",
              "      <td>Sat</td>\n",
              "      <td>Dinner</td>\n",
              "      <td>2</td>\n",
              "    </tr>\n",
              "    <tr>\n",
              "      <th>243</th>\n",
              "      <td>244</td>\n",
              "      <td>15.19596</td>\n",
              "      <td>3.00</td>\n",
              "      <td>Female</td>\n",
              "      <td>Thur</td>\n",
              "      <td>Dinner</td>\n",
              "      <td>2</td>\n",
              "    </tr>\n",
              "  </tbody>\n",
              "</table>\n",
              "<p>244 rows × 7 columns</p>\n",
              "</div>"
            ],
            "text/plain": [
              "     Sr No  Total bill   Tip  Gender   Day    Time  Size\n",
              "0        1    13.96589  1.01  Female   Sun  Dinner     2\n",
              "1        2    17.34565  1.66    Male   Sun  Dinner     3\n",
              "2        3    14.25061  3.50    Male   Sun  Dinner     3\n",
              "3        4    15.05258  3.31    Male   Sun  Dinner     2\n",
              "4        5    15.60354  3.61  Female   Sun  Dinner     4\n",
              "..     ...         ...   ...     ...   ...     ...   ...\n",
              "239    240    14.79501  5.92    Male   Sat  Dinner     3\n",
              "240    241    13.82787  2.00  Female   Sat  Dinner     2\n",
              "241    242    16.20828  2.00    Male   Sat  Dinner     2\n",
              "242    243    15.08435  1.75    Male   Sat  Dinner     2\n",
              "243    244    15.19596  3.00  Female  Thur  Dinner     2\n",
              "\n",
              "[244 rows x 7 columns]"
            ]
          },
          "metadata": {},
          "execution_count": 3
        }
      ]
    },
    {
      "cell_type": "code",
      "metadata": {
        "id": "XEKTxa3RgUrf",
        "colab": {
          "base_uri": "https://localhost:8080/",
          "height": 206
        },
        "outputId": "4d8a8b2a-e921-4a49-ed77-d31236fe82fc"
      },
      "source": [
        "df.head(5)"
      ],
      "execution_count": null,
      "outputs": [
        {
          "output_type": "execute_result",
          "data": {
            "text/html": [
              "<div>\n",
              "<style scoped>\n",
              "    .dataframe tbody tr th:only-of-type {\n",
              "        vertical-align: middle;\n",
              "    }\n",
              "\n",
              "    .dataframe tbody tr th {\n",
              "        vertical-align: top;\n",
              "    }\n",
              "\n",
              "    .dataframe thead th {\n",
              "        text-align: right;\n",
              "    }\n",
              "</style>\n",
              "<table border=\"1\" class=\"dataframe\">\n",
              "  <thead>\n",
              "    <tr style=\"text-align: right;\">\n",
              "      <th></th>\n",
              "      <th>Sr No</th>\n",
              "      <th>Total bill</th>\n",
              "      <th>Tip</th>\n",
              "      <th>Gender</th>\n",
              "      <th>Day</th>\n",
              "      <th>Time</th>\n",
              "      <th>Size</th>\n",
              "    </tr>\n",
              "  </thead>\n",
              "  <tbody>\n",
              "    <tr>\n",
              "      <th>0</th>\n",
              "      <td>1</td>\n",
              "      <td>13.96589</td>\n",
              "      <td>1.01</td>\n",
              "      <td>Female</td>\n",
              "      <td>Sun</td>\n",
              "      <td>Dinner</td>\n",
              "      <td>2</td>\n",
              "    </tr>\n",
              "    <tr>\n",
              "      <th>1</th>\n",
              "      <td>2</td>\n",
              "      <td>17.34565</td>\n",
              "      <td>1.66</td>\n",
              "      <td>Male</td>\n",
              "      <td>Sun</td>\n",
              "      <td>Dinner</td>\n",
              "      <td>3</td>\n",
              "    </tr>\n",
              "    <tr>\n",
              "      <th>2</th>\n",
              "      <td>3</td>\n",
              "      <td>14.25061</td>\n",
              "      <td>3.50</td>\n",
              "      <td>Male</td>\n",
              "      <td>Sun</td>\n",
              "      <td>Dinner</td>\n",
              "      <td>3</td>\n",
              "    </tr>\n",
              "    <tr>\n",
              "      <th>3</th>\n",
              "      <td>4</td>\n",
              "      <td>15.05258</td>\n",
              "      <td>3.31</td>\n",
              "      <td>Male</td>\n",
              "      <td>Sun</td>\n",
              "      <td>Dinner</td>\n",
              "      <td>2</td>\n",
              "    </tr>\n",
              "    <tr>\n",
              "      <th>4</th>\n",
              "      <td>5</td>\n",
              "      <td>15.60354</td>\n",
              "      <td>3.61</td>\n",
              "      <td>Female</td>\n",
              "      <td>Sun</td>\n",
              "      <td>Dinner</td>\n",
              "      <td>4</td>\n",
              "    </tr>\n",
              "  </tbody>\n",
              "</table>\n",
              "</div>"
            ],
            "text/plain": [
              "   Sr No  Total bill   Tip  Gender  Day    Time  Size\n",
              "0      1    13.96589  1.01  Female  Sun  Dinner     2\n",
              "1      2    17.34565  1.66    Male  Sun  Dinner     3\n",
              "2      3    14.25061  3.50    Male  Sun  Dinner     3\n",
              "3      4    15.05258  3.31    Male  Sun  Dinner     2\n",
              "4      5    15.60354  3.61  Female  Sun  Dinner     4"
            ]
          },
          "metadata": {},
          "execution_count": 4
        }
      ]
    },
    {
      "cell_type": "markdown",
      "metadata": {
        "id": "CO842nj-gatu"
      },
      "source": [
        "## **Histogram of the data**"
      ]
    },
    {
      "cell_type": "code",
      "metadata": {
        "id": "bJLnAdfdgdvO",
        "colab": {
          "base_uri": "https://localhost:8080/",
          "height": 386
        },
        "outputId": "b2b6872d-794c-41d9-e325-84183170965c"
      },
      "source": [
        "plt.hist(df['Total bill'],bins=15)"
      ],
      "execution_count": null,
      "outputs": [
        {
          "output_type": "execute_result",
          "data": {
            "text/plain": [
              "(array([ 3.,  3.,  7., 13., 21., 18., 29., 49., 30., 27., 18., 15.,  4.,\n",
              "         6.,  1.]),\n",
              " array([12.17144   , 12.54331067, 12.91518133, 13.287052  , 13.65892267,\n",
              "        14.03079333, 14.402664  , 14.77453467, 15.14640533, 15.518276  ,\n",
              "        15.89014667, 16.26201733, 16.633888  , 17.00575867, 17.37762933,\n",
              "        17.7495    ]),\n",
              " <a list of 15 Patch objects>)"
            ]
          },
          "metadata": {},
          "execution_count": 5
        },
        {
          "output_type": "display_data",
          "data": {
            "image/png": "[encoded data removed]",
            "text/plain": [
              "<Figure size 432x288 with 1 Axes>"
            ]
          },
          "metadata": {
            "needs_background": "light"
          }
        }
      ]
    },
    {
      "cell_type": "markdown",
      "metadata": {
        "id": "d_fs-xT9gi8S"
      },
      "source": [
        "## **Mean and Variance**"
      ]
    },
    {
      "cell_type": "code",
      "metadata": {
        "id": "S_G-fN4jgpgu",
        "colab": {
          "base_uri": "https://localhost:8080/"
        },
        "outputId": "1f8c4bfd-0eec-411b-d7e1-93a684436dd6"
      },
      "source": [
        "x = np.array(df['Total bill'])\n",
        "m1 = np.average(x)\n",
        "ss = np.var(x,ddof=1)\n",
        "print(\"Average\", m1)\n",
        "print(\"Variance\", ss)"
      ],
      "execution_count": null,
      "outputs": [
        {
          "output_type": "stream",
          "name": "stdout",
          "text": [
            "Average 14.980788770491804\n",
            "Variance 1.0638168311120624\n"
          ]
        }
      ]
    },
    {
      "cell_type": "markdown",
      "metadata": {
        "id": "6NwxSXRRg9lX"
      },
      "source": [
        "# **Alpha and Beta using Method of Moments**\n",
        "Please use light theme in google colab to view these formulae clearly\n",
        "\n",
        "alphaMM is given by,\n",
        "\n",
        "$ \\alpha = [\\bar x ^2 (1- \\bar x ^2) - s^2\\bar x ]/ s^2 =\\bar x [(\\bar x (1-\\bar x^2 )/s^2)-1]$\n",
        "\n",
        "betaMM is given by,\n",
        "\n",
        "$ \\beta = \\alpha(1-\\bar x )/\\bar x  $\n",
        "\n",
        "$ \\bar x $ = sample mean of the sales data and, $s^2$ = sample variance of the sales data"
      ]
    },
    {
      "cell_type": "code",
      "metadata": {
        "id": "ni8KyWopg5Vs",
        "colab": {
          "base_uri": "https://localhost:8080/"
        },
        "outputId": "9ee72db3-a020-4998-a5b4-67aa343f9f56"
      },
      "source": [
        "#From method of moments\n",
        "alphaMM =  ((((1-m1)/ss)-(1/m1))*m1**m1)\n",
        "betaMM  = alphaMM*(1-m1)/m1\n",
        "alphaMM=-1*alphaMM\n",
        "print(\"Alpha MME : \", alphaMM)\n",
        "print(\"Beta MME : \", betaMM)"
      ],
      "execution_count": null,
      "outputs": [
        {
          "output_type": "stream",
          "name": "stdout",
          "text": [
            "Alpha MME :  5.386440532865434e+18\n",
            "Beta MME :  5.026883995797419e+18\n"
          ]
        }
      ]
    },
    {
      "cell_type": "markdown",
      "metadata": {
        "id": "J_z5gSqDj56P"
      },
      "source": [
        "##Plot of MM with histogram"
      ]
    },
    {
      "cell_type": "code",
      "metadata": {
        "id": "q3z6I9gFj-PL",
        "colab": {
          "base_uri": "https://localhost:8080/",
          "height": 265
        },
        "outputId": "018b48bb-4c37-40b2-ef81-01ead297e027"
      },
      "source": [
        "#Plotting fit on density histogram\n",
        "fig,ax = plt.subplots(1,1)\n",
        "ax.hist(x,density=True,bins=15)\n",
        "xx=np.linspace(12,18,500)\n",
        "st.beta.pdf(xx,alphaMM,betaMM)\n",
        "ax.plot(xx,st.beta.pdf(xx,alphaMM,betaMM,False,20),label=\"Beta fit MM\")\n",
        "ax.legend(loc='best')\n",
        "plt.show()"
      ],
      "execution_count": null,
      "outputs": [
        {
          "output_type": "display_data",
          "data": {
            "image/png": "[encoded data removed]",
            "text/plain": [
              "<Figure size 432x288 with 1 Axes>"
            ]
          },
          "metadata": {
            "needs_background": "light"
          }
        }
      ]
    },
    {
      "cell_type": "markdown",
      "metadata": {
        "id": "KyPTzs0bkB12"
      },
      "source": [
        "## Bootstrap method to find alpha and beta"
      ]
    },
    {
      "cell_type": "code",
      "metadata": {
        "id": "_sZj1XJekGZx"
      },
      "source": [
        "#Use bootstrap method to find alpha and beta\n",
        "\n",
        "N= 100 #Running the simulation 1000 times\n",
        "n = 500 #As we have 5000 samples\n",
        "alpha_hat = np.zeros(N)\n",
        "beta_hat = np.zeros(N)\n",
        "for i in np.arange(N):\n",
        "    xi = st.beta.rvs(alphaMM,betaMM,size=n)\n",
        "    m1i = np.average(xi); ssi = np.var(xi)\n",
        "    alpha_hat[i] = m1i*((m1i*(1-m1i)/ssi)-1)\n",
        "    beta_hat[i]  = alpha_hat[i]*(1-m1i)/m1i"
      ],
      "execution_count": null,
      "outputs": []
    },
    {
      "cell_type": "markdown",
      "metadata": {
        "id": "inFE6ex8_pP1"
      },
      "source": [
        "## Histogram plot of alpha and beta obtained from bootstrap"
      ]
    },
    {
      "cell_type": "code",
      "metadata": {
        "id": "_gN4wODQkPnv",
        "colab": {
          "base_uri": "https://localhost:8080/",
          "height": 456
        },
        "outputId": "2f435708-7bcd-443b-c7d5-15cb79bc0731"
      },
      "source": [
        "#Plot histogram of the estimates(alpha,beta) from bootstrap\n",
        "\n",
        "ax1 = plt.subplot(121)\n",
        "ax1.hist(alpha_hat,density=True,bins=50)\n",
        "ax2 = plt.subplot(122)\n",
        "ax2.hist(beta_hat,density=True,bins=50)"
      ],
      "execution_count": null,
      "outputs": [
        {
          "output_type": "execute_result",
          "data": {
            "text/plain": [
              "(array([ 0.,  0.,  0.,  0.,  0.,  0.,  0.,  0.,  0.,  0.,  0.,  0.,  0.,\n",
              "         0.,  0.,  0.,  0.,  0.,  0.,  0.,  0.,  0.,  0.,  0.,  0., 50.,\n",
              "         0.,  0.,  0.,  0.,  0.,  0.,  0.,  0.,  0.,  0.,  0.,  0.,  0.,\n",
              "         0.,  0.,  0.,  0.,  0.,  0.,  0.,  0.,  0.,  0.,  0.]),\n",
              " array([-0.5 , -0.48, -0.46, -0.44, -0.42, -0.4 , -0.38, -0.36, -0.34,\n",
              "        -0.32, -0.3 , -0.28, -0.26, -0.24, -0.22, -0.2 , -0.18, -0.16,\n",
              "        -0.14, -0.12, -0.1 , -0.08, -0.06, -0.04, -0.02,  0.  ,  0.02,\n",
              "         0.04,  0.06,  0.08,  0.1 ,  0.12,  0.14,  0.16,  0.18,  0.2 ,\n",
              "         0.22,  0.24,  0.26,  0.28,  0.3 ,  0.32,  0.34,  0.36,  0.38,\n",
              "         0.4 ,  0.42,  0.44,  0.46,  0.48,  0.5 ]),\n",
              " <a list of 50 Patch objects>)"
            ]
          },
          "metadata": {},
          "execution_count": 78
        },
        {
          "output_type": "display_data",
          "data": {
            "image/png": "[encoded data removed]",
            "text/plain": [
              "<Figure size 432x288 with 2 Axes>"
            ]
          },
          "metadata": {
            "needs_background": "light"
          }
        }
      ]
    },
    {
      "cell_type": "markdown",
      "metadata": {
        "id": "tWhgXse3kcYD"
      },
      "source": [
        "The sample standard deviations of the estimates is a bootstrap estimate for the standard error of the estimator"
      ]
    },
    {
      "cell_type": "code",
      "metadata": {
        "id": "bZweEvkEkix4",
        "colab": {
          "base_uri": "https://localhost:8080/"
        },
        "outputId": "eee0b4ca-97fd-4d7e-b1ec-63f356fb7359"
      },
      "source": [
        "print(np.sqrt(np.var(alpha_hat)))\n",
        "print(np.sqrt(np.var(beta_hat)))"
      ],
      "execution_count": null,
      "outputs": [
        {
          "output_type": "stream",
          "name": "stdout",
          "text": [
            "3.600441866515128e+17\n",
            "3.3601045971296595e+17\n"
          ]
        }
      ]
    },
    {
      "cell_type": "markdown",
      "metadata": {
        "id": "VMg8Tpyckyn4"
      },
      "source": [
        "## 95% Confidence Intervals for alpha and beta"
      ]
    },
    {
      "cell_type": "code",
      "metadata": {
        "id": "EgDsTe2jk2hr",
        "colab": {
          "base_uri": "https://localhost:8080/"
        },
        "outputId": "4cd144be-1b1d-4740-a874-489c152060aa"
      },
      "source": [
        "del1_alpha = np.percentile(alpha_hat - alphaMM, 97.5)\n",
        "del2_alpha = np.percentile(alpha_hat - alphaMM, 2.5)\n",
        "print([del1_alpha,del2_alpha])\n",
        "del1_beta = np.percentile(beta_hat - betaMM, 97.5)\n",
        "del2_beta = np.percentile(beta_hat - betaMM, 2.5)\n",
        "print([del1_beta,del2_beta])"
      ],
      "execution_count": null,
      "outputs": [
        {
          "output_type": "stream",
          "name": "stdout",
          "text": [
            "[7.210026702632602e+17, -6.143822760923185e+17]\n",
            "[6.728741850415105e+17, -5.7337093251175904e+17]\n"
          ]
        }
      ]
    },
    {
      "cell_type": "code",
      "metadata": {
        "id": "9mrmMi2Vk6P4",
        "colab": {
          "base_uri": "https://localhost:8080/"
        },
        "outputId": "29bd6a1b-2e67-4163-aef1-e17218ff5274"
      },
      "source": [
        "#The 95% C.I. works out to(for alpha and beta):\n",
        "print([alphaMM - del1_alpha, alphaMM - del2_alpha])\n",
        "print([betaMM - del1_beta, betaMM - del2_beta])"
      ],
      "execution_count": null,
      "outputs": [
        {
          "output_type": "stream",
          "name": "stdout",
          "text": [
            "[4.665437862602173e+18, 6.000822808957752e+18]\n",
            "[4.3540098107559086e+18, 5.600254928309178e+18]\n"
          ]
        }
      ]
    },
    {
      "cell_type": "markdown",
      "metadata": {
        "id": "AZebstr7k-jJ"
      },
      "source": [
        "## Parameter estimation using MLE"
      ]
    },
    {
      "cell_type": "code",
      "metadata": {
        "id": "vuetEijvnjtC",
        "colab": {
          "base_uri": "https://localhost:8080/"
        },
        "outputId": "0429a1b8-be38-4d3d-9e2c-ef7e062f0cd7"
      },
      "source": [
        "#Referred to wikipedia for formulae for estimation of alpha and beta\n",
        "\n",
        "p = np.sign(x) * (np.abs(x))**(1/n)\n",
        "pminusx = (np.abs(1-x)**(1/n))\n",
        "G_x = np.prod(p)\n",
        "G_1minusx = np.prod(pminusx)\n",
        "\n",
        "alphaML = 1/2 + G_x/(2*(1 - G_x - G_1minusx))\n",
        "print(alphaML)\n",
        "betaML = 1/2 + G_1minusx/(2*(1 - G_x - G_1minusx))\n",
        "print(betaML)\n"
      ],
      "execution_count": null,
      "outputs": [
        {
          "output_type": "stream",
          "name": "stdout",
          "text": [
            "0.20579144378837344\n",
            "0.21559446216076222\n"
          ]
        }
      ]
    },
    {
      "cell_type": "markdown",
      "metadata": {
        "id": "LNXfPcYNos9q"
      },
      "source": [
        "## Histogram plot with ML and MM fit"
      ]
    },
    {
      "cell_type": "code",
      "metadata": {
        "id": "MtFSc-Wzowdd",
        "colab": {
          "base_uri": "https://localhost:8080/",
          "height": 265
        },
        "outputId": "ad039894-b1fa-41e2-8d6f-ec08977a2007"
      },
      "source": [
        "#Checking the fit with the histogram\n",
        "\n",
        "fig,ax = plt.subplots(1,1)\n",
        "ax.hist(x,density=True,bins=15)\n",
        "xx = np.linspace(12,18,15)\n",
        "ax.plot(xx, st.beta.pdf(xx,alphaMM,betaMM),label=\"Beta fit MM\")\n",
        "ax.plot(xx, st.beta.pdf(xx,alphaML,betaML),label=\"Beta fit ML\")\n",
        "ax.legend(loc='best')\n",
        "plt.show()"
      ],
      "execution_count": null,
      "outputs": [
        {
          "output_type": "display_data",
          "data": {
            "image/png": "[encoded data removed]",
            "text/plain": [
              "<Figure size 432x288 with 1 Axes>"
            ]
          },
          "metadata": {
            "needs_background": "light"
          }
        }
      ]
    }
  ]
}